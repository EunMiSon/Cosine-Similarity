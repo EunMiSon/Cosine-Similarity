{
  "nbformat": 4,
  "nbformat_minor": 0,
  "metadata": {
    "colab": {
      "provenance": [],
      "include_colab_link": true
    },
    "kernelspec": {
      "name": "python3",
      "display_name": "Python 3"
    },
    "language_info": {
      "name": "python"
    }
  },
  "cells": [
    {
      "cell_type": "markdown",
      "metadata": {
        "id": "view-in-github",
        "colab_type": "text"
      },
      "source": [
        "<a href=\"https://colab.research.google.com/github/EunMiSon/Cosine-Similarity/blob/main/%EB%B3%B4%EC%9C%A0_%EB%B0%8F_%EC%9D%B4%EC%9A%A9%EA%B8%B0%EA%B0%84_Cosine_Similarity.ipynb\" target=\"_parent\"><img src=\"https://colab.research.google.com/assets/colab-badge.svg\" alt=\"Open In Colab\"/></a>"
      ]
    },
    {
      "cell_type": "code",
      "execution_count": 1,
      "metadata": {
        "id": "wY4Yp6JM-PmJ"
      },
      "outputs": [],
      "source": [
        "import nltk"
      ]
    },
    {
      "cell_type": "code",
      "source": [
        "nltk.download('punkt')"
      ],
      "metadata": {
        "colab": {
          "base_uri": "https://localhost:8080/"
        },
        "id": "US0Tm3oH_gOP",
        "outputId": "a5cdbd91-a1cc-4d64-8ac4-c4ef972195c1"
      },
      "execution_count": 2,
      "outputs": [
        {
          "output_type": "stream",
          "name": "stderr",
          "text": [
            "[nltk_data] Downloading package punkt to /root/nltk_data...\n",
            "[nltk_data]   Unzipping tokenizers/punkt.zip.\n"
          ]
        },
        {
          "output_type": "execute_result",
          "data": {
            "text/plain": [
              "True"
            ]
          },
          "metadata": {},
          "execution_count": 2
        }
      ]
    },
    {
      "cell_type": "code",
      "source": [
        "nltk.download('stopwords')"
      ],
      "metadata": {
        "colab": {
          "base_uri": "https://localhost:8080/"
        },
        "id": "T7fUzxba_oej",
        "outputId": "cc42e209-85a4-46bc-81c6-6f52984c9d64"
      },
      "execution_count": 3,
      "outputs": [
        {
          "output_type": "stream",
          "name": "stderr",
          "text": [
            "[nltk_data] Downloading package stopwords to /root/nltk_data...\n",
            "[nltk_data]   Unzipping corpora/stopwords.zip.\n"
          ]
        },
        {
          "output_type": "execute_result",
          "data": {
            "text/plain": [
              "True"
            ]
          },
          "metadata": {},
          "execution_count": 3
        }
      ]
    },
    {
      "cell_type": "code",
      "source": [
        "nltk.download('wordnet')"
      ],
      "metadata": {
        "colab": {
          "base_uri": "https://localhost:8080/"
        },
        "id": "UrWcBPnL_sym",
        "outputId": "2311a100-6649-40e1-fa0c-a52477940820"
      },
      "execution_count": 4,
      "outputs": [
        {
          "output_type": "stream",
          "name": "stderr",
          "text": [
            "[nltk_data] Downloading package wordnet to /root/nltk_data...\n"
          ]
        },
        {
          "output_type": "execute_result",
          "data": {
            "text/plain": [
              "True"
            ]
          },
          "metadata": {},
          "execution_count": 4
        }
      ]
    },
    {
      "cell_type": "code",
      "source": [
        "nltk.download('omw-1.4')"
      ],
      "metadata": {
        "colab": {
          "base_uri": "https://localhost:8080/"
        },
        "id": "YkzOE33E_wZP",
        "outputId": "a12adf17-39c6-4f50-b23d-c833c701d48d"
      },
      "execution_count": 5,
      "outputs": [
        {
          "output_type": "stream",
          "name": "stderr",
          "text": [
            "[nltk_data] Downloading package omw-1.4 to /root/nltk_data...\n"
          ]
        },
        {
          "output_type": "execute_result",
          "data": {
            "text/plain": [
              "True"
            ]
          },
          "metadata": {},
          "execution_count": 5
        }
      ]
    },
    {
      "cell_type": "code",
      "source": [
        "import string"
      ],
      "metadata": {
        "id": "aFnhXmwp-Qta"
      },
      "execution_count": 6,
      "outputs": []
    },
    {
      "cell_type": "code",
      "source": [
        "from sklearn.feature_extraction.text import TfidfVectorizer"
      ],
      "metadata": {
        "id": "7ddtD9Ws-S3J"
      },
      "execution_count": 7,
      "outputs": []
    },
    {
      "cell_type": "code",
      "source": [
        "from sklearn.metrics.pairwise import cosine_similarity"
      ],
      "metadata": {
        "id": "Vb9w4Wg3-UK4"
      },
      "execution_count": 8,
      "outputs": []
    },
    {
      "cell_type": "markdown",
      "source": [
        "샘플1과 비교"
      ],
      "metadata": {
        "id": "_DEjM2VgpS-C"
      }
    },
    {
      "cell_type": "code",
      "source": [
        "# sample paragraphs\n",
        "paragraph1 = \"Storage period of personal information In principle, the company destroys users' personal information without delay when they leave the membership. However, if the user has obtained separate consent for the period of personal information storage, or if the law imposes an obligation to keep information for a certain period of time, the personal information is kept safe during the period. The following are cases in which consent is obtained when subscribing to the membership or service for the personal information storage period from the user. - Prevention of Unauthorized Subscription and Use Mobile phone number or DI (legal representative DI for persons under 14 years of age): Keep for 6 months from the date of withdrawal The mobile phone number of the withdrawn user (one-way encryption (hash processing) that cannot be decrypted): Keep it for six months from the date of withdrawal - Respond to QR code recovery requests QR code registration information: Keep for 6 months from the time of deletion - SmartPlace Dispute Mediation and Response to Customer Enquiries Mobile phone number: Up to 1 year from request for registration/modification/deletion - Prevent duplicate Naver Plus membership service benefits Encrypted DI: Keep 6 months from end of benefits - Application for re-registration of Knowledge iNeXpert and prevention of fraudulent use eXpert service and eXpert center registration information: Keep 6 months from the date of application (30 days from the date of refusal when registration is rejected) Laws such as the Consumer Protection Act in e-commerce, etc., the Framework Act on Electronic Documents and Electronic Transactions, and the Communication Secret Protection Act stipulate the storage of information for a certain period of time as follows. During this period, Naver keeps personal information in accordance with the provisions of the law and never uses this information for other purposes. - Act on Consumer Protection in Electronic Commerce, etc Records of contract or withdrawal of subscription, etc.: Retention for 5 years Records on payment and supply of goods, etc.: Five-year storage Records of consumer complaints or dispute settlement: kept for 3 years - Basic Law on Electronic Documents and Electronic Transactions Records on the distribution of electronic documents through authorized electronic addresses: 10 years of storage - Electronic signature authentication work Records of certificates and certification operations: kept for 10 years from the date of invalidation of the certificate - Communications Secrets Protection Act Login history: 3 months For reference, Naver separately stores and manages the personal information of members who have not used the service for one year in accordance with the Personal Information Validity System.\"\n",
        "sample1 = \"Retention period and period of use of personal information In principle, after the purpose of collecting and using personal information is achieved, the information is destroyed without delay. However, the following information shall be preserved for the period specified for the following reasons. A. Reasons for holding information according to the company's internal policy o Prevention of illegal transactions and storage in accordance with the shopping mall operation policy: 1 year B. Reasons for holding information under relevant laws and regulations o Records of contract or subscription withdrawal, etc -Reason for preservation: Consumer Protection Act in e-commerce, etc - Preservation period: 5 years o Records of payment and supply of goods, etc -Reason for preservation: Act on Consumer Protection in Electronic Commerce, etc - Preservation period: 5 years o Records of consumer complaints or dispute settlement -Reason for preservation: Consumer Protection Act in e-commerce, etc - Preservation period: 3 years o Log logging -Reason for preservation: Communication Secret Protection Act - Preservation period: 3 months ※ You can refuse to agree, but if you refuse, you cannot sign up as a member. #Consignment processing of personal information In order to improve service, the company name obtains the consent of the member in accordance with the relevant laws and regulations or entrusts the member's personal information to the outside after disclosing or notifying related matters. The personal information processing trustee of the Company Name and the contents of its duties are as follows. - Trustee: Snap Company Co., Ltd. (Notification Transmission Trustee: MTS Company Co., Ltd.) - Consignment: Developing new services (products) and providing customized services, providing event and advertising information and opportunities to participate - Collection items: Name, ID, mobile phone number - Holding period: upon withdrawal from membership or statutory holding period\""
      ],
      "metadata": {
        "id": "0VGN0gcK-eGF"
      },
      "execution_count": 9,
      "outputs": []
    },
    {
      "cell_type": "code",
      "source": [
        "# preprocess the paragraphs\n",
        "def preprocess(text):\n",
        "    # lowercase\n",
        "    text = text.lower()\n",
        "    # remove punctuation\n",
        "    text = text.translate(str.maketrans('', '', string.punctuation))\n",
        "    # tokenize\n",
        "    tokens = nltk.word_tokenize(text)\n",
        "    # remove stop words\n",
        "    stopwords = nltk.corpus.stopwords.words('english')\n",
        "    tokens = [token for token in tokens if token not in stopwords]\n",
        "    # lemmatize\n",
        "    lemmatizer = nltk.stem.WordNetLemmatizer()\n",
        "    tokens = [lemmatizer.lemmatize(token) for token in tokens]\n",
        "    # join tokens back into text\n",
        "    text = \" \".join(tokens)\n",
        "    return text"
      ],
      "metadata": {
        "id": "_O1IFkvW_atp"
      },
      "execution_count": 10,
      "outputs": []
    },
    {
      "cell_type": "code",
      "source": [
        "paragraph1 = preprocess(paragraph1)\n",
        "sample1 = preprocess(sample1)"
      ],
      "metadata": {
        "id": "envLvtUO_dQQ"
      },
      "execution_count": 11,
      "outputs": []
    },
    {
      "cell_type": "code",
      "source": [
        "# vectorize the paragraphs using TF-IDF\n",
        "vectorizer = TfidfVectorizer()\n",
        "vectorized_paragraphs = vectorizer.fit_transform([paragraph1, sample1])"
      ],
      "metadata": {
        "id": "NrytSmlm_06f"
      },
      "execution_count": 12,
      "outputs": []
    },
    {
      "cell_type": "code",
      "source": [
        "# compute cosine similarity between the paragraphs\n",
        "similarity = cosine_similarity(vectorized_paragraphs)[0][1]"
      ],
      "metadata": {
        "id": "AyL6Fkjp_3Yy"
      },
      "execution_count": 13,
      "outputs": []
    },
    {
      "cell_type": "code",
      "source": [
        "print(\"Similarity:\", similarity)"
      ],
      "metadata": {
        "colab": {
          "base_uri": "https://localhost:8080/"
        },
        "id": "gxVQo4yh_4i1",
        "outputId": "33d31258-64c4-4667-fefe-5ec279f0de99"
      },
      "execution_count": 14,
      "outputs": [
        {
          "output_type": "stream",
          "name": "stdout",
          "text": [
            "Similarity: 0.4509187543666965\n"
          ]
        }
      ]
    },
    {
      "cell_type": "markdown",
      "source": [
        "샘플2와 비교"
      ],
      "metadata": {
        "id": "3ywogA9PAS9q"
      }
    },
    {
      "cell_type": "code",
      "source": [
        "sample2 = \"The processing and retention period of personal information is as follows. A. The company processes and retains personal information within the period of retention and use of personal information in accordance with laws and regulations or within the period of retention and use of personal information agreed upon when collecting personal information from the data subject. B. Each personal information processing and retention period is as follows. Classification Processing Purpose Retention Period Membership and membership management [Membership] - Identification of users and provision of member services, etc by the time one leaves the membership [Membership management] - Prevention of Unauthorized Use and Prevention of Unauthorized Use of Defective Members, etc by the time one leaves the membership [Customer consultation] - Preservation, etc. of Records for Dispute Mediation - Complaint handling, complaint handling, customer counseling, etc Three years Engagement fulfillment and service delivery - Payment, refund, delivery, etc. of ordered products Five years C. However, in the following cases, information is kept for a certain period of time as follows in accordance with the provisions of the relevant laws and regulations. Statutes based on the period of retention of storage and surrender Consumer Protection Act in Electronic Commerce, etc. for Six Months of Records on Labeling/Advertising Five years of records on contract or withdrawal of subscription, etc Five years of records on payment and supply of goods, etc Three years of records on consumer complaints or dispute settlement Records on the Collection/Processing and Use of Credit Information The Act on the Use and Protection of Credit Information for Three Years Communication Confidentiality Protection Act for 3 months in accordance with the Communication Confidentiality Protection Act\""
      ],
      "metadata": {
        "id": "1u8wz702_80f"
      },
      "execution_count": 15,
      "outputs": []
    },
    {
      "cell_type": "code",
      "source": [
        "# preprocess the paragraphs\n",
        "def preprocess(text):\n",
        "    # lowercase\n",
        "    text = text.lower()\n",
        "    # remove punctuation\n",
        "    text = text.translate(str.maketrans('', '', string.punctuation))\n",
        "    # tokenize\n",
        "    tokens = nltk.word_tokenize(text)\n",
        "    # remove stop words\n",
        "    stopwords = nltk.corpus.stopwords.words('english')\n",
        "    tokens = [token for token in tokens if token not in stopwords]\n",
        "    # lemmatize\n",
        "    lemmatizer = nltk.stem.WordNetLemmatizer()\n",
        "    tokens = [lemmatizer.lemmatize(token) for token in tokens]\n",
        "    # join tokens back into text\n",
        "    text = \" \".join(tokens)\n",
        "    return text"
      ],
      "metadata": {
        "id": "QXSlLJa0AJfl"
      },
      "execution_count": 16,
      "outputs": []
    },
    {
      "cell_type": "code",
      "source": [
        "paragraph1 = preprocess(paragraph1)\n",
        "sample2 = preprocess(sample2)"
      ],
      "metadata": {
        "id": "DMBQEFoXALSu"
      },
      "execution_count": 17,
      "outputs": []
    },
    {
      "cell_type": "code",
      "source": [
        "# vectorize the paragraphs using TF-IDF\n",
        "vectorizer = TfidfVectorizer()\n",
        "vectorized_paragraphs = vectorizer.fit_transform([paragraph1, sample2])"
      ],
      "metadata": {
        "id": "jOM7x3VUAFjc"
      },
      "execution_count": 18,
      "outputs": []
    },
    {
      "cell_type": "code",
      "source": [
        "# compute cosine similarity between the paragraphs\n",
        "similarity = cosine_similarity(vectorized_paragraphs)[0][1]"
      ],
      "metadata": {
        "id": "84g-HzgDAPpN"
      },
      "execution_count": 19,
      "outputs": []
    },
    {
      "cell_type": "code",
      "source": [
        "print(\"Similarity:\", similarity)"
      ],
      "metadata": {
        "colab": {
          "base_uri": "https://localhost:8080/"
        },
        "id": "Vq2Q60cpAQtJ",
        "outputId": "03420065-4389-4c62-c12b-2742b9866709"
      },
      "execution_count": 20,
      "outputs": [
        {
          "output_type": "stream",
          "name": "stdout",
          "text": [
            "Similarity: 0.5602966364264648\n"
          ]
        }
      ]
    },
    {
      "cell_type": "markdown",
      "source": [
        "샘플 3과 비교"
      ],
      "metadata": {
        "id": "FPZpmLZfcMR4"
      }
    },
    {
      "cell_type": "code",
      "source": [
        "sample3 = \"Period of retention and use of personal information The members' personal information will be retained until they leave the website. However, the following information shall be preserved for the period specified for the following reasons. ○ Evidence for the use of membership services - Retention information: ID, name, email, gender, date of birth, membership, identification information (di, social security number), country, final login date, access ip - Basis for possession: Consent of data subject - Retention period: 6 months ○ Prevention of the use of other people's IDs and restriction of re-subscription within a certain period of time - Retention information: ID, identification information (di), final login date and time, withdrawal date and time - Grounds for possession: Consent of data subject - Retention period: Permanent ○ Sharing information according to relevant laws and regulations - Records on contract or subscription withdrawal, etc.: 5 years (Act on Consumer Protection in Electronic Commerce, etc.) - Records on payment and supply of goods, etc.: 5 years (Act on Consumer Protection in Electronic Commerce, etc.) - Records of consumer complaints or dispute settlement: 3 years (Act on Consumer Protection in Electronic Commerce, etc.) - Records on display/advertisement: 6 months (Act on Consumer Protection in Electronic Commerce, etc.) - Records on identification: 6 months (Act on Promotion of Information and Communication Network Use and Information Protection, etc.) - Website visit record: 3 months (Communication Secret Protection Act) * Additional information may be collected through separate consent during the service use process.\""
      ],
      "metadata": {
        "id": "mAm9QnvHcDhe"
      },
      "execution_count": 21,
      "outputs": []
    },
    {
      "cell_type": "code",
      "source": [
        "# preprocess the paragraphs\n",
        "def preprocess(text):\n",
        "    # lowercase\n",
        "    text = text.lower()\n",
        "    # remove punctuation\n",
        "    text = text.translate(str.maketrans('', '', string.punctuation))\n",
        "    # tokenize\n",
        "    tokens = nltk.word_tokenize(text)\n",
        "    # remove stop words\n",
        "    stopwords = nltk.corpus.stopwords.words('english')\n",
        "    tokens = [token for token in tokens if token not in stopwords]\n",
        "    # lemmatize\n",
        "    lemmatizer = nltk.stem.WordNetLemmatizer()\n",
        "    tokens = [lemmatizer.lemmatize(token) for token in tokens]\n",
        "    # join tokens back into text\n",
        "    text = \" \".join(tokens)\n",
        "    return text"
      ],
      "metadata": {
        "id": "NB0revVhcz4j"
      },
      "execution_count": 22,
      "outputs": []
    },
    {
      "cell_type": "code",
      "source": [
        "paragraph1 = preprocess(paragraph1)\n",
        "sample3 = preprocess(sample3)"
      ],
      "metadata": {
        "id": "-klM1SY2c16W"
      },
      "execution_count": 23,
      "outputs": []
    },
    {
      "cell_type": "code",
      "source": [
        "# vectorize the paragraphs using TF-IDF\n",
        "vectorizer = TfidfVectorizer()\n",
        "vectorized_paragraphs = vectorizer.fit_transform([paragraph1, sample3])"
      ],
      "metadata": {
        "id": "xx9H655Sc8JB"
      },
      "execution_count": 24,
      "outputs": []
    },
    {
      "cell_type": "code",
      "source": [
        "# compute cosine similarity between the paragraphs\n",
        "similarity = cosine_similarity(vectorized_paragraphs)[0][1]"
      ],
      "metadata": {
        "id": "-hskRmUmc_HK"
      },
      "execution_count": 25,
      "outputs": []
    },
    {
      "cell_type": "code",
      "source": [
        "print(\"Similarity:\", similarity)"
      ],
      "metadata": {
        "colab": {
          "base_uri": "https://localhost:8080/"
        },
        "id": "2nK5s9fedA52",
        "outputId": "c11070fb-3908-4f63-aff9-bca9453aea2b"
      },
      "execution_count": 26,
      "outputs": [
        {
          "output_type": "stream",
          "name": "stdout",
          "text": [
            "Similarity: 0.5746003341883863\n"
          ]
        }
      ]
    },
    {
      "cell_type": "markdown",
      "source": [
        "샘플4와 비교"
      ],
      "metadata": {
        "id": "L-UVKqkqdc22"
      }
    },
    {
      "cell_type": "code",
      "source": [
        "sample4 = \"<Storage period and usage period of personal information> The member's personal information will be destroyed when the purpose of collecting or receiving personal information is achieved. If a member withdraws from the membership or is deleted due to false personal information, the collected personal information will be completely deleted and will not be available for any purpose. In addition, in the event of a dispute such as name theft, a copy of the ID card submitted for identification will be destroyed immediately after identification. The member's personal information will be destroyed without delay if the purpose of collecting and using personal information is achieved, but if it falls under each of the following items, it may be kept for a specified period of time and shall not be used for other purposes. 1) Users who have caused a stir in the service due to the unhealthy use of the service can request an investigation by a judicial agency or keep the personal information for one year to protect other members. 2) If it is necessary to keep it in accordance with the provisions of related laws, the company may keep the personal information of the member for a certain period of time prescribed by the relevant laws even after the purpose of collecting and using personal information is achieved. A. Records of contract or subscription withdrawal, etc.: 5 years B. Records on payment and supply of goods: 5 years C. Records of consumer complaints or dispute settlement: 3 years D. Records of marking and advertising: 6 months E. Website visit record: 3 months 3) The company separately stores and manages the personal information of members who have not used the service for one year according to the Personal Information Validity System.\""
      ],
      "metadata": {
        "id": "0dWyKbNMdgjO"
      },
      "execution_count": 27,
      "outputs": []
    },
    {
      "cell_type": "code",
      "source": [
        "# preprocess the paragraphs\n",
        "def preprocess(text):\n",
        "    # lowercase\n",
        "    text = text.lower()\n",
        "    # remove punctuation\n",
        "    text = text.translate(str.maketrans('', '', string.punctuation))\n",
        "    # tokenize\n",
        "    tokens = nltk.word_tokenize(text)\n",
        "    # remove stop words\n",
        "    stopwords = nltk.corpus.stopwords.words('english')\n",
        "    tokens = [token for token in tokens if token not in stopwords]\n",
        "    # lemmatize\n",
        "    lemmatizer = nltk.stem.WordNetLemmatizer()\n",
        "    tokens = [lemmatizer.lemmatize(token) for token in tokens]\n",
        "    # join tokens back into text\n",
        "    text = \" \".join(tokens)\n",
        "    return text"
      ],
      "metadata": {
        "id": "YDk9rVxTdlm_"
      },
      "execution_count": 28,
      "outputs": []
    },
    {
      "cell_type": "code",
      "source": [
        "paragraph1 = preprocess(paragraph1)\n",
        "sample4 = preprocess(sample4)"
      ],
      "metadata": {
        "id": "77Ipg7uEdnbC"
      },
      "execution_count": 29,
      "outputs": []
    },
    {
      "cell_type": "code",
      "source": [
        "# vectorize the paragraphs using TF-IDF\n",
        "vectorizer = TfidfVectorizer()\n",
        "vectorized_paragraphs = vectorizer.fit_transform([paragraph1, sample4])"
      ],
      "metadata": {
        "id": "DSzPsxp_oxkc"
      },
      "execution_count": 30,
      "outputs": []
    },
    {
      "cell_type": "code",
      "source": [
        "# compute cosine similarity between the paragraphs\n",
        "similarity = cosine_similarity(vectorized_paragraphs)[0][1]"
      ],
      "metadata": {
        "id": "sEr09wQ4drIm"
      },
      "execution_count": 31,
      "outputs": []
    },
    {
      "cell_type": "code",
      "source": [
        "print(\"Similarity:\", similarity)"
      ],
      "metadata": {
        "colab": {
          "base_uri": "https://localhost:8080/"
        },
        "id": "mhT6bSgvdv2b",
        "outputId": "00d43db8-de91-4b79-d5a9-17f41aeade1f"
      },
      "execution_count": 32,
      "outputs": [
        {
          "output_type": "stream",
          "name": "stdout",
          "text": [
            "Similarity: 0.5217278758494047\n"
          ]
        }
      ]
    },
    {
      "cell_type": "markdown",
      "source": [
        "샘플5와 비교"
      ],
      "metadata": {
        "id": "VYZRDeyHdwpo"
      }
    },
    {
      "cell_type": "code",
      "source": [
        "sample5 = \"Purpose of collection and use of personal information and retention and use period The Nowon-gu website will retain and use minimum personal information to use the Nowon-gu website service only for the period of providing the service from the date of membership of the information subject. You can withdraw your consent to the collection, use, and provision of personal information through membership registration at any time. If a member withdrawal is requested, the purpose of collection/use is achieved, or the retention/use period is over, the personal information is destroyed in the event of a reason such as the abolition of the business. A. Name, IFIN - Purpose of collection and use: Use for self-certification procedures based on the use of the website (in the case of children's members, confirmation of consent by legal representative) - Retention and use period: Eye pins are not stored separately and are used only for identification purposes B. ID, password, name, gender, address, mobile phone, subscription authentication information, phone, email, job, notification application, items of interest - Purpose of collection and use: website service use and member management, prevention of unauthorized use of rogue members, civil petition and processing, notice delivery, post registration, data download, education course application results, electronic complaints, prize winning result guidance and product delivery - Retention and use period: Until membership withdrawal (However, newsletters and SMS are until application for termination) The data subject may refuse to consent to the purpose of collecting and using personal information, and if he/she refuses to consent, he/she will not be registered on the Nowon-gu website, and the service provided on the Nowon-gu website will not be available.\""
      ],
      "metadata": {
        "id": "ps3Xw-DjdzDV"
      },
      "execution_count": 33,
      "outputs": []
    },
    {
      "cell_type": "code",
      "source": [
        "# preprocess the paragraphs\n",
        "def preprocess(text):\n",
        "    # lowercase\n",
        "    text = text.lower()\n",
        "    # remove punctuation\n",
        "    text = text.translate(str.maketrans('', '', string.punctuation))\n",
        "    # tokenize\n",
        "    tokens = nltk.word_tokenize(text)\n",
        "    # remove stop words\n",
        "    stopwords = nltk.corpus.stopwords.words('english')\n",
        "    tokens = [token for token in tokens if token not in stopwords]\n",
        "    # lemmatize\n",
        "    lemmatizer = nltk.stem.WordNetLemmatizer()\n",
        "    tokens = [lemmatizer.lemmatize(token) for token in tokens]\n",
        "    # join tokens back into text\n",
        "    text = \" \".join(tokens)\n",
        "    return text"
      ],
      "metadata": {
        "id": "Qs2Ue_4Fd5Rd"
      },
      "execution_count": 34,
      "outputs": []
    },
    {
      "cell_type": "code",
      "source": [
        "paragraph1 = preprocess(paragraph1)\n",
        "sample5 = preprocess(sample5)"
      ],
      "metadata": {
        "id": "l3ll1SSgd6z0"
      },
      "execution_count": 35,
      "outputs": []
    },
    {
      "cell_type": "code",
      "source": [
        "# vectorize the paragraphs using TF-IDF\n",
        "vectorizer = TfidfVectorizer()\n",
        "vectorized_paragraphs = vectorizer.fit_transform([paragraph1, sample5])"
      ],
      "metadata": {
        "id": "OB-7dPxHo7fe"
      },
      "execution_count": 36,
      "outputs": []
    },
    {
      "cell_type": "code",
      "source": [
        "# compute cosine similarity between the paragraphs\n",
        "similarity = cosine_similarity(vectorized_paragraphs)[0][1]"
      ],
      "metadata": {
        "id": "qA3Ss6ETd-J1"
      },
      "execution_count": 37,
      "outputs": []
    },
    {
      "cell_type": "code",
      "source": [
        "print(\"Similarity:\", similarity)"
      ],
      "metadata": {
        "colab": {
          "base_uri": "https://localhost:8080/"
        },
        "id": "hGQD5hBwd_TL",
        "outputId": "d0ecded5-e608-4c6a-9a26-acba8c971e48"
      },
      "execution_count": 38,
      "outputs": [
        {
          "output_type": "stream",
          "name": "stdout",
          "text": [
            "Similarity: 0.2996797262220588\n"
          ]
        }
      ]
    }
  ]
}